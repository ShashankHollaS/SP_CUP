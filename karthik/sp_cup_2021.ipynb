{
 "cells": [
  {
   "cell_type": "code",
   "execution_count": 69,
   "metadata": {},
   "outputs": [],
   "source": [
    "import numpy as np\n",
    "import matplotlib.pyplot as plt\n",
    "import scipy.io\n",
    "\n",
    "mat = scipy.io.loadmat('D:\\\\sixth-sem\\\\sp_cup_2021\\\\dataset2.mat')"
   ]
  },
  {
   "cell_type": "code",
   "execution_count": 70,
   "metadata": {},
   "outputs": [],
   "source": [
    "unique, unique_ar = np.unique(mat[\"pilotMatrix\"], return_index=True, axis=1)"
   ]
  },
  {
   "cell_type": "code",
   "execution_count": 71,
   "metadata": {},
   "outputs": [
    {
     "data": {
      "text/plain": [
       "(4096, 4096)"
      ]
     },
     "execution_count": 71,
     "metadata": {},
     "output_type": "execute_result"
    }
   ],
   "source": [
    "unique.shape"
   ]
  },
  {
   "cell_type": "code",
   "execution_count": 36,
   "metadata": {},
   "outputs": [
    {
     "name": "stdout",
     "output_type": "stream",
     "text": [
      "8191\n",
      "0\n"
     ]
    }
   ],
   "source": [
    "print(np.max(unique_ar))\n",
    "print(np.min(unique_ar))"
   ]
  },
  {
   "cell_type": "code",
   "execution_count": 18,
   "metadata": {},
   "outputs": [
    {
     "data": {
      "text/plain": [
       "array([2.43514177e-10+5.00304537e-10j, 1.02981436e-10+2.11599373e-10j,\n",
       "       3.56564084e-10+1.88869636e-10j, 4.99638638e-10+3.94261344e-10j,\n",
       "       4.83144870e-11+3.91864349e-10j, 2.42786623e-10+5.85207898e-10j,\n",
       "       3.67283743e-10+1.61131786e-10j, 1.41147417e-10+3.76886762e-10j,\n",
       "       1.14230607e-10+3.16562224e-10j, 3.57386576e-10+4.87811611e-10j])"
      ]
     },
     "execution_count": 18,
     "metadata": {},
     "output_type": "execute_result"
    }
   ],
   "source": [
    "mat[\"receivedSignal4N\"][:, 0][:10]"
   ]
  },
  {
   "cell_type": "code",
   "execution_count": 20,
   "metadata": {},
   "outputs": [
    {
     "data": {
      "text/plain": [
       "array([1.42836494e-10+1.61695143e-10j, 9.64091751e-11+1.54622041e-10j,\n",
       "       2.55673772e-10+1.85324332e-10j, 1.42601269e-10+3.38562273e-10j,\n",
       "       6.99167430e-11+4.29566484e-10j, 3.80924839e-10+3.85007253e-10j,\n",
       "       2.35815548e-10+3.14310272e-10j, 4.29587070e-10+2.54430650e-10j,\n",
       "       2.86904408e-10+4.30768969e-10j, 5.14241371e-10+3.28455347e-10j])"
      ]
     },
     "execution_count": 20,
     "metadata": {},
     "output_type": "execute_result"
    }
   ],
   "source": [
    "mat[\"receivedSignal4N\"][:, 8192][:10]"
   ]
  },
  {
   "cell_type": "code",
   "execution_count": 68,
   "metadata": {},
   "outputs": [
    {
     "name": "stdout",
     "output_type": "stream",
     "text": [
      "Same at 8195\n"
     ]
    }
   ],
   "source": [
    "for i in range(8192, 16384):\n",
    "    t=1\n",
    "    for j in range(4096):\n",
    "        if (mat[\"pilotMatrix4N\"][j, 3] != mat[\"pilotMatrix4N\"][j, i]):\n",
    "            t = 0\n",
    "            break\n",
    "    if t:\n",
    "        print(f\"Same at {i}\")\n",
    "        break"
   ]
  },
  {
   "cell_type": "code",
   "execution_count": null,
   "metadata": {},
   "outputs": [],
   "source": []
  }
 ],
 "metadata": {
  "kernelspec": {
   "display_name": "Python 3",
   "language": "python",
   "name": "python3"
  },
  "language_info": {
   "codemirror_mode": {
    "name": "ipython",
    "version": 3
   },
   "file_extension": ".py",
   "mimetype": "text/x-python",
   "name": "python",
   "nbconvert_exporter": "python",
   "pygments_lexer": "ipython3",
   "version": "3.8.5"
  }
 },
 "nbformat": 4,
 "nbformat_minor": 4
}
